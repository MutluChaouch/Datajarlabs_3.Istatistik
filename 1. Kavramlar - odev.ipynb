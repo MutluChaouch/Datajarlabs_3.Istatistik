{
 "cells": [
  {
   "cell_type": "markdown",
   "metadata": {},
   "source": [
    "## 1. Temel Kavramlar - odev"
   ]
  },
  {
   "cell_type": "code",
   "execution_count": 40,
   "metadata": {},
   "outputs": [
    {
     "data": {
      "text/html": [
       "<div>\n",
       "<style scoped>\n",
       "    .dataframe tbody tr th:only-of-type {\n",
       "        vertical-align: middle;\n",
       "    }\n",
       "\n",
       "    .dataframe tbody tr th {\n",
       "        vertical-align: top;\n",
       "    }\n",
       "\n",
       "    .dataframe thead th {\n",
       "        text-align: right;\n",
       "    }\n",
       "</style>\n",
       "<table border=\"1\" class=\"dataframe\">\n",
       "  <thead>\n",
       "    <tr style=\"text-align: right;\">\n",
       "      <th></th>\n",
       "      <th>cinsiyet</th>\n",
       "      <th>yas</th>\n",
       "      <th>maas</th>\n",
       "    </tr>\n",
       "  </thead>\n",
       "  <tbody>\n",
       "    <tr>\n",
       "      <th>0</th>\n",
       "      <td>kadin</td>\n",
       "      <td>38.493141</td>\n",
       "      <td>4029.610285</td>\n",
       "    </tr>\n",
       "    <tr>\n",
       "      <th>1</th>\n",
       "      <td>kadin</td>\n",
       "      <td>34.995021</td>\n",
       "      <td>4610.201847</td>\n",
       "    </tr>\n",
       "    <tr>\n",
       "      <th>2</th>\n",
       "      <td>kadin</td>\n",
       "      <td>45.122436</td>\n",
       "      <td>2797.125912</td>\n",
       "    </tr>\n",
       "    <tr>\n",
       "      <th>3</th>\n",
       "      <td>kadin</td>\n",
       "      <td>36.429344</td>\n",
       "      <td>4352.959048</td>\n",
       "    </tr>\n",
       "    <tr>\n",
       "      <th>4</th>\n",
       "      <td>kadin</td>\n",
       "      <td>37.463020</td>\n",
       "      <td>3320.037081</td>\n",
       "    </tr>\n",
       "  </tbody>\n",
       "</table>\n",
       "</div>"
      ],
      "text/plain": [
       "  cinsiyet        yas         maas\n",
       "0    kadin  38.493141  4029.610285\n",
       "1    kadin  34.995021  4610.201847\n",
       "2    kadin  45.122436  2797.125912\n",
       "3    kadin  36.429344  4352.959048\n",
       "4    kadin  37.463020  3320.037081"
      ]
     },
     "execution_count": 40,
     "metadata": {},
     "output_type": "execute_result"
    }
   ],
   "source": [
    "# numpy kütüphanesini kullanarak üreteceğiniz 3 farklı veri aracılığı ile \n",
    "# merkezi eğilim ve dağılım ölçümlerini hem yukarıda verilen matematiksel formülle \n",
    "# hem de python'da hazır bulunan (built-in) kodlar aracılığıyla analiz edin\n",
    "\n",
    "veri = pd.DataFrame()\n",
    "veri['cinsiyet']=['kadin']*1000+['erkek']*1000\n",
    "veri['yas']=np.append(np.random.normal(40,5,1000),np.random.normal(45,5,1000))\n",
    "veri['maas']=np.append(np.random.normal(4000,1000,1000),np.random.normal(4500,1000,1000))\n",
    "veri.head()"
   ]
  },
  {
   "cell_type": "code",
   "execution_count": 47,
   "metadata": {},
   "outputs": [
    {
     "data": {
      "text/plain": [
       "42.41602256316882"
      ]
     },
     "execution_count": 47,
     "metadata": {},
     "output_type": "execute_result"
    }
   ],
   "source": [
    "# ortalama hesaplama\n",
    "\n",
    "sum(veri['yas'])/len(veri['yas']) \n",
    "veri.yas.mean()\n",
    "np.mean(veri['yas'])\n",
    "statistics.mean(veri['yas'])"
   ]
  },
  {
   "cell_type": "code",
   "execution_count": 52,
   "metadata": {},
   "outputs": [
    {
     "data": {
      "text/plain": [
       "42.46902746794877"
      ]
     },
     "execution_count": 52,
     "metadata": {},
     "output_type": "execute_result"
    }
   ],
   "source": [
    "# medyan hesaplama\n",
    "\n",
    "veri.yas.median()\n",
    "np.median(veri['yas'])\n",
    "statistics.median(veri['yas'])"
   ]
  },
  {
   "cell_type": "code",
   "execution_count": 58,
   "metadata": {},
   "outputs": [],
   "source": [
    "# mode hesaplama - butun yas degerleri farkli oldugu icin mode bilgisine ulasamiyoruz"
   ]
  },
  {
   "cell_type": "code",
   "execution_count": 63,
   "metadata": {},
   "outputs": [
    {
     "data": {
      "text/plain": [
       "31.01400279532033"
      ]
     },
     "execution_count": 63,
     "metadata": {},
     "output_type": "execute_result"
    }
   ],
   "source": [
    "# varyans hesaplama\n",
    "\n",
    "veri['yas'].var()\n",
    "np.var(veri['yas'],ddof=1)\n",
    "statistics.variance(veri['yas'])"
   ]
  },
  {
   "cell_type": "code",
   "execution_count": 66,
   "metadata": {},
   "outputs": [
    {
     "data": {
      "text/plain": [
       "5.569021709000633"
      ]
     },
     "execution_count": 66,
     "metadata": {},
     "output_type": "execute_result"
    }
   ],
   "source": [
    "# standart sapma hesaplama\n",
    "\n",
    "veri['yas'].std()\n",
    "np.std(veri['yas'],ddof=1)\n",
    "statistics.stdev(veri['yas'])"
   ]
  },
  {
   "cell_type": "code",
   "execution_count": 73,
   "metadata": {},
   "outputs": [
    {
     "data": {
      "text/plain": [
       "0.12452711109497469"
      ]
     },
     "execution_count": 73,
     "metadata": {},
     "output_type": "execute_result"
    }
   ],
   "source": [
    "# standart hata hesaplama\n",
    "\n",
    "np.std(veri['yas'], ddof=1)/np.sqrt(len(veri['yas']))\n",
    "veri['yas'].sem()\n",
    "#statistics.StatisticsError(veri['yas']) # bununla istedigimiz sonuc cikmadi"
   ]
  },
  {
   "cell_type": "code",
   "execution_count": 74,
   "metadata": {},
   "outputs": [
    {
     "data": {
      "image/png": "[encoded data removed]",
      "text/plain": [
       "<Figure size 432x288 with 2 Axes>"
      ]
     },
     "metadata": {
      "needs_background": "light"
     },
     "output_type": "display_data"
    }
   ],
   "source": [
    "veri.hist()\n",
    "plt.show()"
   ]
  }
 ],
 "metadata": {
  "kernelspec": {
   "display_name": "Python 3",
   "language": "python",
   "name": "python3"
  },
  "language_info": {
   "codemirror_mode": {
    "name": "ipython",
    "version": 3
   },
   "file_extension": ".py",
   "mimetype": "text/x-python",
   "name": "python",
   "nbconvert_exporter": "python",
   "pygments_lexer": "ipython3",
   "version": "3.7.3"
  }
 },
 "nbformat": 4,
 "nbformat_minor": 2
}
