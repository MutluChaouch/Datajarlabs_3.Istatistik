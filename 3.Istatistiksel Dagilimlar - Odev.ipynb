{
 "cells": [
  {
   "cell_type": "markdown",
   "metadata": {},
   "source": [
    "## 3.3. Istatistiksel Dagilimlar - Odev"
   ]
  },
  {
   "cell_type": "code",
   "execution_count": 2,
   "metadata": {},
   "outputs": [
    {
     "data": {
      "image/png": "[encoded data removed]",
      "text/plain": [
       "<Figure size 400x200 with 2 Axes>"
      ]
     },
     "metadata": {
      "needs_background": "light"
     },
     "output_type": "display_data"
    }
   ],
   "source": [
    "# 1\n",
    "# dağılım = np.random.dağılım_adı([],[]) kodunu kullanarak, dağılım_adı yazan yere seçtiğiniz bir dağılımı ve \n",
    "# parantez içinde [] şeklinde gösterilen boşlukları yine kendi seçiminiz doğrultusunda doldurun. \n",
    "# Daha sonra, a) Verinin histogramını çiziniz b) Q-Q grafiğini çizip yorumlayınız\n",
    "\n",
    "import numpy as np\n",
    "import matplotlib.pyplot as plt\n",
    "import pandas as pd\n",
    "\n",
    "dagilim1 = np.random.normal(10,0.5,10000)\n",
    "dagilim2 = np.random.normal(20,0.5,10000)\n",
    "\n",
    "plt.figure(figsize=(8,4), dpi = 50)\n",
    "plt.subplot(121)\n",
    "plt.hist(dagilim1)\n",
    "plt.subplot(122)\n",
    "plt.hist(dagilim2)\n",
    "plt.show()"
   ]
  },
  {
   "cell_type": "code",
   "execution_count": 3,
   "metadata": {},
   "outputs": [
    {
     "data": {
      "text/plain": [
       "[<matplotlib.lines.Line2D at 0x10f098080>]"
      ]
     },
     "execution_count": 3,
     "metadata": {},
     "output_type": "execute_result"
    },
    {
     "data": {
      "image/png": "[encoded data removed]",
      "text/plain": [
       "<Figure size 432x288 with 1 Axes>"
      ]
     },
     "metadata": {
      "needs_background": "light"
     },
     "output_type": "display_data"
    }
   ],
   "source": [
    "dagilim1.sort()\n",
    "dagilim2.sort()\n",
    "plt.scatter(dagilim1, dagilim2)\n",
    "plt.plot([np.min(dagilim1), np.max(dagilim1)],\n",
    "         [np.min(dagilim2), np.max(dagilim2)], c='red')\n",
    "\n",
    "\n",
    "# Normal dagilim sectigimiz icin, degerler 45 derecelik bir doğru üzerinde ilerlemekte ve \n",
    "# uç noktalarda biraz sapmalar olmakta. "
   ]
  },
  {
   "cell_type": "code",
   "execution_count": 4,
   "metadata": {},
   "outputs": [
    {
     "data": {
      "text/html": [
       "<div>\n",
       "<style scoped>\n",
       "    .dataframe tbody tr th:only-of-type {\n",
       "        vertical-align: middle;\n",
       "    }\n",
       "\n",
       "    .dataframe tbody tr th {\n",
       "        vertical-align: top;\n",
       "    }\n",
       "\n",
       "    .dataframe thead th {\n",
       "        text-align: right;\n",
       "    }\n",
       "</style>\n",
       "<table border=\"1\" class=\"dataframe\">\n",
       "  <thead>\n",
       "    <tr style=\"text-align: right;\">\n",
       "      <th></th>\n",
       "      <th>Date</th>\n",
       "      <th>Open</th>\n",
       "      <th>High</th>\n",
       "      <th>Low</th>\n",
       "      <th>Close</th>\n",
       "      <th>Adj Close</th>\n",
       "      <th>Volume</th>\n",
       "    </tr>\n",
       "  </thead>\n",
       "  <tbody>\n",
       "    <tr>\n",
       "      <th>0</th>\n",
       "      <td>2015-07-07</td>\n",
       "      <td>37.720001</td>\n",
       "      <td>37.810001</td>\n",
       "      <td>36.000000</td>\n",
       "      <td>36.619999</td>\n",
       "      <td>36.619999</td>\n",
       "      <td>7359000</td>\n",
       "    </tr>\n",
       "    <tr>\n",
       "      <th>1</th>\n",
       "      <td>2015-07-08</td>\n",
       "      <td>36.340000</td>\n",
       "      <td>36.360001</td>\n",
       "      <td>34.529999</td>\n",
       "      <td>34.700001</td>\n",
       "      <td>34.700001</td>\n",
       "      <td>5387700</td>\n",
       "    </tr>\n",
       "    <tr>\n",
       "      <th>2</th>\n",
       "      <td>2015-07-09</td>\n",
       "      <td>35.099998</td>\n",
       "      <td>35.520000</td>\n",
       "      <td>33.990002</td>\n",
       "      <td>34.500000</td>\n",
       "      <td>34.500000</td>\n",
       "      <td>3760100</td>\n",
       "    </tr>\n",
       "    <tr>\n",
       "      <th>3</th>\n",
       "      <td>2015-07-10</td>\n",
       "      <td>34.660000</td>\n",
       "      <td>35.189999</td>\n",
       "      <td>33.980000</td>\n",
       "      <td>34.689999</td>\n",
       "      <td>34.689999</td>\n",
       "      <td>4472800</td>\n",
       "    </tr>\n",
       "    <tr>\n",
       "      <th>4</th>\n",
       "      <td>2015-07-13</td>\n",
       "      <td>35.590000</td>\n",
       "      <td>37.500000</td>\n",
       "      <td>35.500000</td>\n",
       "      <td>36.779999</td>\n",
       "      <td>36.779999</td>\n",
       "      <td>7626000</td>\n",
       "    </tr>\n",
       "  </tbody>\n",
       "</table>\n",
       "</div>"
      ],
      "text/plain": [
       "         Date       Open       High        Low      Close  Adj Close   Volume\n",
       "0  2015-07-07  37.720001  37.810001  36.000000  36.619999  36.619999  7359000\n",
       "1  2015-07-08  36.340000  36.360001  34.529999  34.700001  34.700001  5387700\n",
       "2  2015-07-09  35.099998  35.520000  33.990002  34.500000  34.500000  3760100\n",
       "3  2015-07-10  34.660000  35.189999  33.980000  34.689999  34.689999  4472800\n",
       "4  2015-07-13  35.590000  37.500000  35.500000  36.779999  36.779999  7626000"
      ]
     },
     "execution_count": 4,
     "metadata": {},
     "output_type": "execute_result"
    }
   ],
   "source": [
    "# 2\n",
    "# https://finance.yahoo.com/ sitesini kullanarak google şirketinin 2015-2017 yılları arasında hisse senedi fiyatlarını\n",
    "# elde edin. Bu veriyi kullanarak hisse senedi getirisini hesaplayın. Getiriler dağılımı hangi dağılıma daha yakındır?\n",
    "\n",
    "google = pd.read_csv('PYPL.csv')\n",
    "google.head()"
   ]
  },
  {
   "cell_type": "code",
   "execution_count": 5,
   "metadata": {
    "scrolled": true
   },
   "outputs": [
    {
     "data": {
      "text/html": [
       "<div>\n",
       "<style scoped>\n",
       "    .dataframe tbody tr th:only-of-type {\n",
       "        vertical-align: middle;\n",
       "    }\n",
       "\n",
       "    .dataframe tbody tr th {\n",
       "        vertical-align: top;\n",
       "    }\n",
       "\n",
       "    .dataframe thead th {\n",
       "        text-align: right;\n",
       "    }\n",
       "</style>\n",
       "<table border=\"1\" class=\"dataframe\">\n",
       "  <thead>\n",
       "    <tr style=\"text-align: right;\">\n",
       "      <th></th>\n",
       "      <th>Date</th>\n",
       "      <th>Open</th>\n",
       "      <th>High</th>\n",
       "      <th>Low</th>\n",
       "      <th>Close</th>\n",
       "      <th>Adj Close</th>\n",
       "      <th>Volume</th>\n",
       "      <th>Getiri</th>\n",
       "    </tr>\n",
       "  </thead>\n",
       "  <tbody>\n",
       "    <tr>\n",
       "      <th>0</th>\n",
       "      <td>2015-07-07</td>\n",
       "      <td>37.720001</td>\n",
       "      <td>37.810001</td>\n",
       "      <td>36.000000</td>\n",
       "      <td>36.619999</td>\n",
       "      <td>36.619999</td>\n",
       "      <td>7359000</td>\n",
       "      <td>NaN</td>\n",
       "    </tr>\n",
       "    <tr>\n",
       "      <th>1</th>\n",
       "      <td>2015-07-08</td>\n",
       "      <td>36.340000</td>\n",
       "      <td>36.360001</td>\n",
       "      <td>34.529999</td>\n",
       "      <td>34.700001</td>\n",
       "      <td>34.700001</td>\n",
       "      <td>5387700</td>\n",
       "      <td>-0.05</td>\n",
       "    </tr>\n",
       "    <tr>\n",
       "      <th>2</th>\n",
       "      <td>2015-07-09</td>\n",
       "      <td>35.099998</td>\n",
       "      <td>35.520000</td>\n",
       "      <td>33.990002</td>\n",
       "      <td>34.500000</td>\n",
       "      <td>34.500000</td>\n",
       "      <td>3760100</td>\n",
       "      <td>-0.01</td>\n",
       "    </tr>\n",
       "    <tr>\n",
       "      <th>3</th>\n",
       "      <td>2015-07-10</td>\n",
       "      <td>34.660000</td>\n",
       "      <td>35.189999</td>\n",
       "      <td>33.980000</td>\n",
       "      <td>34.689999</td>\n",
       "      <td>34.689999</td>\n",
       "      <td>4472800</td>\n",
       "      <td>0.01</td>\n",
       "    </tr>\n",
       "    <tr>\n",
       "      <th>4</th>\n",
       "      <td>2015-07-13</td>\n",
       "      <td>35.590000</td>\n",
       "      <td>37.500000</td>\n",
       "      <td>35.500000</td>\n",
       "      <td>36.779999</td>\n",
       "      <td>36.779999</td>\n",
       "      <td>7626000</td>\n",
       "      <td>0.06</td>\n",
       "    </tr>\n",
       "  </tbody>\n",
       "</table>\n",
       "</div>"
      ],
      "text/plain": [
       "         Date       Open       High        Low      Close  Adj Close   Volume  \\\n",
       "0  2015-07-07  37.720001  37.810001  36.000000  36.619999  36.619999  7359000   \n",
       "1  2015-07-08  36.340000  36.360001  34.529999  34.700001  34.700001  5387700   \n",
       "2  2015-07-09  35.099998  35.520000  33.990002  34.500000  34.500000  3760100   \n",
       "3  2015-07-10  34.660000  35.189999  33.980000  34.689999  34.689999  4472800   \n",
       "4  2015-07-13  35.590000  37.500000  35.500000  36.779999  36.779999  7626000   \n",
       "\n",
       "   Getiri  \n",
       "0     NaN  \n",
       "1   -0.05  \n",
       "2   -0.01  \n",
       "3    0.01  \n",
       "4    0.06  "
      ]
     },
     "execution_count": 5,
     "metadata": {},
     "output_type": "execute_result"
    }
   ],
   "source": [
    "google['Getiri'] = google.Close.pct_change().round(2)\n",
    "google.head()"
   ]
  },
  {
   "cell_type": "code",
   "execution_count": 6,
   "metadata": {},
   "outputs": [
    {
     "name": "stderr",
     "output_type": "stream",
     "text": [
      "//anaconda3/lib/python3.7/site-packages/numpy/lib/histograms.py:824: RuntimeWarning: invalid value encountered in greater_equal\n",
      "  keep = (tmp_a >= first_edge)\n",
      "//anaconda3/lib/python3.7/site-packages/numpy/lib/histograms.py:825: RuntimeWarning: invalid value encountered in less_equal\n",
      "  keep &= (tmp_a <= last_edge)\n"
     ]
    },
    {
     "data": {
      "image/png": "[encoded data removed]",
      "text/plain": [
       "<Figure size 560x280 with 1 Axes>"
      ]
     },
     "metadata": {
      "needs_background": "light"
     },
     "output_type": "display_data"
    }
   ],
   "source": [
    "plt.figure(figsize=(8,4), dpi=70)\n",
    "plt.hist(google['Getiri'])\n",
    "plt.show()\n",
    "\n",
    "# Gelirlerin buyuk cogunlugu ortada toplandigi icin normal dagilima daha yakin diyebiliriz."
   ]
  },
  {
   "cell_type": "code",
   "execution_count": null,
   "metadata": {},
   "outputs": [],
   "source": []
  }
 ],
 "metadata": {
  "kernelspec": {
   "display_name": "Python 3",
   "language": "python",
   "name": "python3"
  },
  "language_info": {
   "codemirror_mode": {
    "name": "ipython",
    "version": 3
   },
   "file_extension": ".py",
   "mimetype": "text/x-python",
   "name": "python",
   "nbconvert_exporter": "python",
   "pygments_lexer": "ipython3",
   "version": "3.7.3"
  }
 },
 "nbformat": 4,
 "nbformat_minor": 2
}
