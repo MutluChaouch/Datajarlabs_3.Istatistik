{
 "cells": [
  {
   "cell_type": "markdown",
   "metadata": {},
   "source": [
    "## 3.2. Olasilik - Probability - odev"
   ]
  },
  {
   "cell_type": "code",
   "execution_count": null,
   "metadata": {},
   "outputs": [],
   "source": [
    "# Odev\n",
    "\n",
    "# A şirketinin sattığı bilgisayarın bazılarının bozuk olduğu tespit edilmiştir. \n",
    "# Bilgisyar üreten 3 şirket (A, B ve C) olduğunu varsayımı altında, bu şirketlerin bilgisayar üretim miktarı ve \n",
    "# bozuk üretim olasılıkları şu şekildedir:\n",
    "# Toplam Üretim Yüzdesi P(A)=0.40 P(B)=0.40 P(C)=0.20\n",
    "# Hatalı Üretim Olasılığı\n",
    "# P(D|A)=0.015 P(D|B)=0.020 P(D|C)=0.010\n",
    "\n",
    "# Rastgele seçilen bir bozuk bir bilgisayarın B şirketi tarafından üretilme olasılığı nedir?\n",
    "\n",
    "P(B|D)= P(D|B)*P(B)/P(D)\n",
    "P(B|D)=(0.20*0.4)/((0.015*0.40)+(0.020*0.40)+(0.010*0.20))= 0.50 or 50%"
   ]
  }
 ],
 "metadata": {
  "kernelspec": {
   "display_name": "Python 3",
   "language": "python",
   "name": "python3"
  },
  "language_info": {
   "codemirror_mode": {
    "name": "ipython",
    "version": 3
   },
   "file_extension": ".py",
   "mimetype": "text/x-python",
   "name": "python",
   "nbconvert_exporter": "python",
   "pygments_lexer": "ipython3",
   "version": "3.7.3"
  }
 },
 "nbformat": 4,
 "nbformat_minor": 2
}
